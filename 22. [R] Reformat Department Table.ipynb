{
 "cells": [
  {
   "cell_type": "markdown",
   "metadata": {},
   "source": [
    "https://leetcode.com/problems/reformat-department-table/"
   ]
  },
  {
   "cell_type": "markdown",
   "metadata": {},
   "source": [
    "Table: Department\n",
    "\n",
    "+-------------+---------+\n",
    "| Column Name | Type    |\n",
    "+-------------+---------+\n",
    "| id          | int     |\n",
    "| revenue     | int     |\n",
    "| month       | varchar |\n",
    "+-------------+---------+\n",
    "In SQL,(id, month) is the primary key of this table.\n",
    "The table has information about the revenue of each department per month.\n",
    "The month has values in [\"Jan\",\"Feb\",\"Mar\",\"Apr\",\"May\",\"Jun\",\"Jul\",\"Aug\",\"Sep\",\"Oct\",\"Nov\",\"Dec\"].\n",
    " \n",
    "\n",
    "Reformat the table such that there is a department id column and a revenue column for each month.\n",
    "\n",
    "Return the result table in any order.\n",
    "\n",
    "The result format is in the following example.\n",
    "\n",
    " \n",
    "\n",
    "Example 1:\n",
    "\n",
    "Input: \n",
    "Department table:\n",
    "+------+---------+-------+\n",
    "| id   | revenue | month |\n",
    "+------+---------+-------+\n",
    "| 1    | 8000    | Jan   |\n",
    "| 2    | 9000    | Jan   |\n",
    "| 3    | 10000   | Feb   |\n",
    "| 1    | 7000    | Feb   |\n",
    "| 1    | 6000    | Mar   |\n",
    "+------+---------+-------+\n",
    "Output: \n",
    "+------+-------------+-------------+-------------+-----+-------------+\n",
    "| id   | Jan_Revenue | Feb_Revenue | Mar_Revenue | ... | Dec_Revenue |\n",
    "+------+-------------+-------------+-------------+-----+-------------+\n",
    "| 1    | 8000        | 7000        | 6000        | ... | null        |\n",
    "| 2    | 9000        | null        | null        | ... | null        |\n",
    "| 3    | null        | 10000       | null        | ... | null        |\n",
    "+------+-------------+-------------+-------------+-----+-------------+\n",
    "Explanation: The revenue from Apr to Dec is null.\n",
    "Note that the result table has 13 columns (1 for the department id + 12 for the months)."
   ]
  },
  {
   "cell_type": "markdown",
   "metadata": {},
   "source": [
    "SELECT id,\n",
    "    MAX(CASE WHEN month = 'Jan' THEN revenue END) AS Jan_Revenue,\n",
    "    MAX(CASE WHEN month = 'Feb' THEN revenue END) AS Feb_Revenue,\n",
    "    MAX(CASE WHEN month = 'Mar' THEN revenue END) AS Mar_Revenue,\n",
    "    MAX(CASE WHEN month = 'Apr' THEN revenue END) AS Apr_Revenue,\n",
    "    MAX(CASE WHEN month = 'May' THEN revenue END) AS May_Revenue,\n",
    "    MAX(CASE WHEN month = 'Jun' THEN revenue END) AS Jun_Revenue,\n",
    "    MAX(CASE WHEN month = 'Jul' THEN revenue END) AS Jul_Revenue,\n",
    "    MAX(CASE WHEN month = 'Aug' THEN revenue END) AS Aug_Revenue,\n",
    "    MAX(CASE WHEN month = 'Sep' THEN revenue END) AS Sep_Revenue,\n",
    "    MAX(CASE WHEN month = 'Oct' THEN revenue END) AS Oct_Revenue,\n",
    "    MAX(CASE WHEN month = 'Nov' THEN revenue END) AS Nov_Revenue,\n",
    "    MAX(CASE WHEN month = 'Dec' THEN revenue END) AS Dec_Revenue\n",
    "FROM department\n",
    "GROUP BY id;"
   ]
  },
  {
   "cell_type": "markdown",
   "metadata": {},
   "source": []
  },
  {
   "cell_type": "markdown",
   "metadata": {},
   "source": []
  },
  {
   "cell_type": "markdown",
   "metadata": {},
   "source": []
  }
 ],
 "metadata": {
  "language_info": {
   "name": "python"
  }
 },
 "nbformat": 4,
 "nbformat_minor": 2
}
