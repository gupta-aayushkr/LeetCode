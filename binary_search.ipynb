{
 "cells": [
  {
   "cell_type": "code",
   "execution_count": 1,
   "metadata": {},
   "outputs": [
    {
     "name": "stdout",
     "output_type": "stream",
     "text": [
      "Element 7 is present at index 6\n"
     ]
    }
   ],
   "source": [
    "# def binary_search(arr, target):\n",
    "#     low, high = 0, len(arr) - 1\n",
    "\n",
    "#     while low <= high:\n",
    "#         mid = (low + high) // 2\n",
    "#         mid_element = arr[mid]\n",
    "\n",
    "#         if mid_element == target:\n",
    "#             return mid  # Target found, return its index\n",
    "#         elif mid_element < target:\n",
    "#             low = mid + 1  # Discard the left half\n",
    "#         else:\n",
    "#             high = mid - 1  # Discard the right half\n",
    "\n",
    "#     return -1  # Target not found\n",
    "\n",
    "# # Example usage:\n",
    "# arr = [1, 2, 3, 4, 5, 6, 7, 8, 9, 10]\n",
    "# target = 7\n",
    "\n",
    "# result = binary_search(arr, target)\n",
    "\n",
    "# if result != -1:\n",
    "#     print(f\"Element {target} is present at index {result}\")\n",
    "# else:\n",
    "#     print(f\"Element {target} is not present in the array\")\n"
   ]
  },
  {
   "cell_type": "code",
   "execution_count": 2,
   "metadata": {},
   "outputs": [
    {
     "name": "stdout",
     "output_type": "stream",
     "text": [
      "Element 7 is present at index 6\n"
     ]
    }
   ],
   "source": [
    "def binary_search(arr, target):\n",
    "    low, high=0, len(arr)-1\n",
    "    while low<=high:\n",
    "        mid=(low+high) // 2\n",
    "        middle_element=arr[mid]\n",
    "        if middle_element == target:\n",
    "            return mid\n",
    "        elif middle_element < target:\n",
    "            low=mid+1\n",
    "        elif middle_element > target:\n",
    "            high=mid-1\n",
    "    return -1\n",
    "\n",
    "\n",
    "\n",
    "# Example usage:\n",
    "arr = [1, 2, 3, 4, 5, 6, 7, 8, 9, 10]\n",
    "target = 7\n",
    "\n",
    "result = binary_search(arr, target)\n",
    "\n",
    "if result != -1:\n",
    "    print(f\"Element {target} is present at index {result}\")\n",
    "else:\n",
    "    print(f\"Element {target} is not present in the array\")\n"
   ]
  },
  {
   "cell_type": "markdown",
   "metadata": {},
   "source": [
    "Capitalise without functions"
   ]
  },
  {
   "cell_type": "code",
   "execution_count": 5,
   "metadata": {},
   "outputs": [
    {
     "name": "stdout",
     "output_type": "stream",
     "text": [
      "L\n"
     ]
    }
   ],
   "source": [
    "name=\"lucknow\"\n",
    "print(chr(ord(name[0])-32))"
   ]
  },
  {
   "cell_type": "code",
   "execution_count": null,
   "metadata": {},
   "outputs": [],
   "source": []
  }
 ],
 "metadata": {
  "kernelspec": {
   "display_name": "Python 3",
   "language": "python",
   "name": "python3"
  },
  "language_info": {
   "codemirror_mode": {
    "name": "ipython",
    "version": 3
   },
   "file_extension": ".py",
   "mimetype": "text/x-python",
   "name": "python",
   "nbconvert_exporter": "python",
   "pygments_lexer": "ipython3",
   "version": "3.10.13"
  }
 },
 "nbformat": 4,
 "nbformat_minor": 2
}
