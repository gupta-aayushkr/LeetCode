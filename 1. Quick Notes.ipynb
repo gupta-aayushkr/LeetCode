{
 "cells": [
  {
   "cell_type": "markdown",
   "metadata": {},
   "source": [
    "Finding Triangle within SQL--\n",
    "SELECT \n",
    "    CASE\n",
    "        WHEN a + b > c AND a + c > b AND b + c > a THEN 'Yes' -- If the sum of any two sides is greater than the third side, it forms a triangle\n",
    "        ELSE 'No'\n",
    "    END AS is_triangle\n",
    "FROM \n",
    "    triangle;"
   ]
  },
  {
   "cell_type": "markdown",
   "metadata": {},
   "source": []
  },
  {
   "cell_type": "markdown",
   "metadata": {},
   "source": []
  },
  {
   "cell_type": "markdown",
   "metadata": {},
   "source": []
  },
  {
   "cell_type": "markdown",
   "metadata": {},
   "source": []
  },
  {
   "cell_type": "markdown",
   "metadata": {},
   "source": []
  },
  {
   "cell_type": "markdown",
   "metadata": {},
   "source": []
  }
 ],
 "metadata": {
  "language_info": {
   "name": "python"
  }
 },
 "nbformat": 4,
 "nbformat_minor": 2
}
