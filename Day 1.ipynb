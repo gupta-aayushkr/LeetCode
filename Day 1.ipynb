{
 "cells": [
  {
   "cell_type": "markdown",
   "metadata": {},
   "source": [
    "2877. Create a DataFrame from List\n",
    "\n",
    "Write a solution to create a DataFrame from a 2D list called student_data. This 2D list contains the IDs and ages of some students.\n",
    "\n",
    "The DataFrame should have two columns, student_id and age, and be in the same order as the original 2D list.\n",
    "\n",
    "The result format is in the following example.\n",
    "\n",
    "Example 1:\n",
    "\n",
    "Input:\n",
    "student_data:\n",
    "[\n",
    "  [1, 15],\n",
    "  [2, 11],\n",
    "  [3, 11],\n",
    "  [4, 20]\n",
    "]\n",
    "Output:\n",
    "+------------+-----+\n",
    "| student_id | age |\n",
    "+------------+-----+\n",
    "| 1          | 15  |\n",
    "| 2          | 11  |\n",
    "| 3          | 11  |\n",
    "| 4          | 20  |\n",
    "+------------+-----+\n",
    "Explanation:\n",
    "A DataFrame was created on top of student_data, with two columns named student_id and age."
   ]
  },
  {
   "cell_type": "code",
   "execution_count": 2,
   "metadata": {},
   "outputs": [],
   "source": [
    "import pandas as pd"
   ]
  },
  {
   "cell_type": "code",
   "execution_count": 3,
   "metadata": {},
   "outputs": [],
   "source": [
    "student_data = [[1, 15], [2, 11], [3, 11], [4, 20]]"
   ]
  },
  {
   "cell_type": "code",
   "execution_count": 4,
   "metadata": {},
   "outputs": [],
   "source": [
    "student_data_df = pd.DataFrame(student_data)\n",
    "student_data_df.rename(columns={0:\"student_id\",1:\"age\"}, inplace=True)"
   ]
  },
  {
   "cell_type": "code",
   "execution_count": 5,
   "metadata": {},
   "outputs": [
    {
     "data": {
      "text/html": [
       "<div>\n",
       "<style scoped>\n",
       "    .dataframe tbody tr th:only-of-type {\n",
       "        vertical-align: middle;\n",
       "    }\n",
       "\n",
       "    .dataframe tbody tr th {\n",
       "        vertical-align: top;\n",
       "    }\n",
       "\n",
       "    .dataframe thead th {\n",
       "        text-align: right;\n",
       "    }\n",
       "</style>\n",
       "<table border=\"1\" class=\"dataframe\">\n",
       "  <thead>\n",
       "    <tr style=\"text-align: right;\">\n",
       "      <th></th>\n",
       "      <th>student_id</th>\n",
       "      <th>age</th>\n",
       "    </tr>\n",
       "  </thead>\n",
       "  <tbody>\n",
       "    <tr>\n",
       "      <th>0</th>\n",
       "      <td>1</td>\n",
       "      <td>15</td>\n",
       "    </tr>\n",
       "    <tr>\n",
       "      <th>1</th>\n",
       "      <td>2</td>\n",
       "      <td>11</td>\n",
       "    </tr>\n",
       "    <tr>\n",
       "      <th>2</th>\n",
       "      <td>3</td>\n",
       "      <td>11</td>\n",
       "    </tr>\n",
       "    <tr>\n",
       "      <th>3</th>\n",
       "      <td>4</td>\n",
       "      <td>20</td>\n",
       "    </tr>\n",
       "  </tbody>\n",
       "</table>\n",
       "</div>"
      ],
      "text/plain": [
       "   student_id  age\n",
       "0           1   15\n",
       "1           2   11\n",
       "2           3   11\n",
       "3           4   20"
      ]
     },
     "execution_count": 5,
     "metadata": {},
     "output_type": "execute_result"
    }
   ],
   "source": [
    "student_data_df"
   ]
  },
  {
   "cell_type": "markdown",
   "metadata": {},
   "source": [
    "175. Combine Two Tables\n",
    "\n",
    "Table: Person\n",
    "\n",
    "+-------------+---------+\n",
    "| Column Name | Type    |\n",
    "+-------------+---------+\n",
    "| personId    | int     |\n",
    "| lastName    | varchar |\n",
    "| firstName   | varchar |\n",
    "+-------------+---------+\n",
    "personId is the primary key (column with unique values) for this table.\n",
    "This table contains information about the ID of some persons and their first and last names.\n",
    " \n",
    "\n",
    "Table: Address\n",
    "\n",
    "+-------------+---------+\n",
    "| Column Name | Type    |\n",
    "+-------------+---------+\n",
    "| addressId   | int     |\n",
    "| personId    | int     |\n",
    "| city        | varchar |\n",
    "| state       | varchar |\n",
    "+-------------+---------+\n",
    "addressId is the primary key (column with unique values) for this table.\n",
    "Each row of this table contains information about the city and state of one person with ID = PersonId.\n",
    " \n",
    "\n",
    "Write a solution to report the first name, last name, city, and state of each person in the Person table. If the address of a personId is not present in the Address table, report null instead.\n",
    "\n",
    "Return the result table in any order.\n",
    "\n",
    "The result format is in the following example.\n",
    "\n",
    " \n",
    "\n",
    "Example 1:\n",
    "\n",
    "Input: \n",
    "Person table:\n",
    "+----------+----------+-----------+\n",
    "| personId | lastName | firstName |\n",
    "+----------+----------+-----------+\n",
    "| 1        | Wang     | Allen     |\n",
    "| 2        | Alice    | Bob       |\n",
    "+----------+----------+-----------+\n",
    "Address table:\n",
    "+-----------+----------+---------------+------------+\n",
    "| addressId | personId | city          | state      |\n",
    "+-----------+----------+---------------+------------+\n",
    "| 1         | 2        | New York City | New York   |\n",
    "| 2         | 3        | Leetcode      | California |\n",
    "+-----------+----------+---------------+------------+\n",
    "Output: \n",
    "+-----------+----------+---------------+----------+\n",
    "| firstName | lastName | city          | state    |\n",
    "+-----------+----------+---------------+----------+\n",
    "| Allen     | Wang     | Null          | Null     |\n",
    "| Bob       | Alice    | New York City | New York |\n",
    "+-----------+----------+---------------+----------+\n",
    "Explanation: \n",
    "There is no address in the address table for the personId = 1 so we return null in their city and state.\n",
    "addressId = 1 contains information about the address of personId = 2."
   ]
  },
  {
   "cell_type": "code",
   "execution_count": 6,
   "metadata": {},
   "outputs": [],
   "source": [
    "data = {'personId': [1, 2],\n",
    "        'lastName': ['Wang', 'Alice'],\n",
    "        'firstName': ['Allen', 'Bob']}\n",
    "\n",
    "df1 = pd.DataFrame(data)"
   ]
  },
  {
   "cell_type": "code",
   "execution_count": 7,
   "metadata": {},
   "outputs": [],
   "source": [
    "data = {\n",
    "    'addressId': [1, 2],\n",
    "    'personId': [2, 3],\n",
    "    'city': ['New York City', 'Leetcode'],\n",
    "    'state': ['New York', 'California']\n",
    "}\n",
    "\n",
    "df2 = pd.DataFrame(data)"
   ]
  },
  {
   "cell_type": "code",
   "execution_count": 8,
   "metadata": {},
   "outputs": [
    {
     "data": {
      "text/html": [
       "<div>\n",
       "<style scoped>\n",
       "    .dataframe tbody tr th:only-of-type {\n",
       "        vertical-align: middle;\n",
       "    }\n",
       "\n",
       "    .dataframe tbody tr th {\n",
       "        vertical-align: top;\n",
       "    }\n",
       "\n",
       "    .dataframe thead th {\n",
       "        text-align: right;\n",
       "    }\n",
       "</style>\n",
       "<table border=\"1\" class=\"dataframe\">\n",
       "  <thead>\n",
       "    <tr style=\"text-align: right;\">\n",
       "      <th></th>\n",
       "      <th>personId</th>\n",
       "      <th>lastName</th>\n",
       "      <th>firstName</th>\n",
       "    </tr>\n",
       "  </thead>\n",
       "  <tbody>\n",
       "    <tr>\n",
       "      <th>0</th>\n",
       "      <td>1</td>\n",
       "      <td>Wang</td>\n",
       "      <td>Allen</td>\n",
       "    </tr>\n",
       "    <tr>\n",
       "      <th>1</th>\n",
       "      <td>2</td>\n",
       "      <td>Alice</td>\n",
       "      <td>Bob</td>\n",
       "    </tr>\n",
       "  </tbody>\n",
       "</table>\n",
       "</div>"
      ],
      "text/plain": [
       "   personId lastName firstName\n",
       "0         1     Wang     Allen\n",
       "1         2    Alice       Bob"
      ]
     },
     "execution_count": 8,
     "metadata": {},
     "output_type": "execute_result"
    }
   ],
   "source": [
    "df1"
   ]
  },
  {
   "cell_type": "code",
   "execution_count": 9,
   "metadata": {},
   "outputs": [
    {
     "data": {
      "text/html": [
       "<div>\n",
       "<style scoped>\n",
       "    .dataframe tbody tr th:only-of-type {\n",
       "        vertical-align: middle;\n",
       "    }\n",
       "\n",
       "    .dataframe tbody tr th {\n",
       "        vertical-align: top;\n",
       "    }\n",
       "\n",
       "    .dataframe thead th {\n",
       "        text-align: right;\n",
       "    }\n",
       "</style>\n",
       "<table border=\"1\" class=\"dataframe\">\n",
       "  <thead>\n",
       "    <tr style=\"text-align: right;\">\n",
       "      <th></th>\n",
       "      <th>addressId</th>\n",
       "      <th>personId</th>\n",
       "      <th>city</th>\n",
       "      <th>state</th>\n",
       "    </tr>\n",
       "  </thead>\n",
       "  <tbody>\n",
       "    <tr>\n",
       "      <th>0</th>\n",
       "      <td>1</td>\n",
       "      <td>2</td>\n",
       "      <td>New York City</td>\n",
       "      <td>New York</td>\n",
       "    </tr>\n",
       "    <tr>\n",
       "      <th>1</th>\n",
       "      <td>2</td>\n",
       "      <td>3</td>\n",
       "      <td>Leetcode</td>\n",
       "      <td>California</td>\n",
       "    </tr>\n",
       "  </tbody>\n",
       "</table>\n",
       "</div>"
      ],
      "text/plain": [
       "   addressId  personId           city       state\n",
       "0          1         2  New York City    New York\n",
       "1          2         3       Leetcode  California"
      ]
     },
     "execution_count": 9,
     "metadata": {},
     "output_type": "execute_result"
    }
   ],
   "source": [
    "df2"
   ]
  },
  {
   "cell_type": "code",
   "execution_count": 10,
   "metadata": {},
   "outputs": [],
   "source": [
    "merge_df = df1.merge(df2, on=[\"personId\"], how='left')\n",
    "merge_df.drop(columns=[\"personId\",\"addressId\"], inplace=True)"
   ]
  },
  {
   "cell_type": "code",
   "execution_count": 11,
   "metadata": {},
   "outputs": [
    {
     "data": {
      "text/html": [
       "<div>\n",
       "<style scoped>\n",
       "    .dataframe tbody tr th:only-of-type {\n",
       "        vertical-align: middle;\n",
       "    }\n",
       "\n",
       "    .dataframe tbody tr th {\n",
       "        vertical-align: top;\n",
       "    }\n",
       "\n",
       "    .dataframe thead th {\n",
       "        text-align: right;\n",
       "    }\n",
       "</style>\n",
       "<table border=\"1\" class=\"dataframe\">\n",
       "  <thead>\n",
       "    <tr style=\"text-align: right;\">\n",
       "      <th></th>\n",
       "      <th>lastName</th>\n",
       "      <th>firstName</th>\n",
       "      <th>city</th>\n",
       "      <th>state</th>\n",
       "    </tr>\n",
       "  </thead>\n",
       "  <tbody>\n",
       "    <tr>\n",
       "      <th>0</th>\n",
       "      <td>Wang</td>\n",
       "      <td>Allen</td>\n",
       "      <td>NaN</td>\n",
       "      <td>NaN</td>\n",
       "    </tr>\n",
       "    <tr>\n",
       "      <th>1</th>\n",
       "      <td>Alice</td>\n",
       "      <td>Bob</td>\n",
       "      <td>New York City</td>\n",
       "      <td>New York</td>\n",
       "    </tr>\n",
       "  </tbody>\n",
       "</table>\n",
       "</div>"
      ],
      "text/plain": [
       "  lastName firstName           city     state\n",
       "0     Wang     Allen            NaN       NaN\n",
       "1    Alice       Bob  New York City  New York"
      ]
     },
     "execution_count": 11,
     "metadata": {},
     "output_type": "execute_result"
    }
   ],
   "source": [
    "merge_df"
   ]
  },
  {
   "cell_type": "markdown",
   "metadata": {},
   "source": [
    "2891. Method Chaining\n",
    "DataFrame animals\n",
    "+-------------+--------+\n",
    "| Column Name | Type   |\n",
    "+-------------+--------+\n",
    "| name        | object |\n",
    "| species     | object |\n",
    "| age         | int    |\n",
    "| weight      | int    |\n",
    "+-------------+--------+\n",
    "Write a solution to list the names of animals that weigh strictly more than 100 kilograms.\n",
    "\n",
    "Return the animals sorted by weight in descending order.\n",
    "\n",
    "The result format is in the following example.\n",
    "\n",
    " \n",
    "\n",
    "Example 1:\n",
    "\n",
    "Input: \n",
    "DataFrame animals:\n",
    "+----------+---------+-----+--------+\n",
    "| name     | species | age | weight |\n",
    "+----------+---------+-----+--------+\n",
    "| Tatiana  | Snake   | 98  | 464    |\n",
    "| Khaled   | Giraffe | 50  | 41     |\n",
    "| Alex     | Leopard | 6   | 328    |\n",
    "| Jonathan | Monkey  | 45  | 463    |\n",
    "| Stefan   | Bear    | 100 | 50     |\n",
    "| Tommy    | Panda   | 26  | 349    |\n",
    "+----------+---------+-----+--------+\n",
    "Output: \n",
    "+----------+\n",
    "| name     |\n",
    "+----------+\n",
    "| Tatiana  |\n",
    "| Jonathan |\n",
    "| Tommy    |\n",
    "| Alex     |\n",
    "+----------+\n",
    "Explanation: \n",
    "All animals weighing more than 100 should be included in the results table.\n",
    "Tatiana's weight is 464, Jonathan's weight is 463, Tommy's weight is 349, and Alex's weight is 328.\n",
    "The results should be sorted in descending order of weight."
   ]
  },
  {
   "cell_type": "code",
   "execution_count": 12,
   "metadata": {},
   "outputs": [],
   "source": [
    "import pandas as pd\n",
    "\n",
    "# Create a dictionary with the data\n",
    "data = {\n",
    "    'name': ['Tatiana', 'Khaled', 'Alex', 'Jonathan', 'Stefan', 'Tommy'],\n",
    "    'species': ['Snake', 'Giraffe', 'Leopard', 'Monkey', 'Bear', 'Panda'],\n",
    "    'age': [98, 50, 6, 45, 100, 26],\n",
    "    'weight': [464, 41, 328, 463, 50, 349]\n",
    "}\n",
    "\n",
    "# Create a DataFrame from the dictionary\n",
    "df = pd.DataFrame(data)"
   ]
  },
  {
   "cell_type": "code",
   "execution_count": 13,
   "metadata": {},
   "outputs": [],
   "source": [
    "df.sort_values(by=\"weight\", ascending=False, inplace=True)"
   ]
  },
  {
   "cell_type": "code",
   "execution_count": 14,
   "metadata": {},
   "outputs": [
    {
     "data": {
      "text/html": [
       "<div>\n",
       "<style scoped>\n",
       "    .dataframe tbody tr th:only-of-type {\n",
       "        vertical-align: middle;\n",
       "    }\n",
       "\n",
       "    .dataframe tbody tr th {\n",
       "        vertical-align: top;\n",
       "    }\n",
       "\n",
       "    .dataframe thead th {\n",
       "        text-align: right;\n",
       "    }\n",
       "</style>\n",
       "<table border=\"1\" class=\"dataframe\">\n",
       "  <thead>\n",
       "    <tr style=\"text-align: right;\">\n",
       "      <th></th>\n",
       "      <th>name</th>\n",
       "    </tr>\n",
       "  </thead>\n",
       "  <tbody>\n",
       "    <tr>\n",
       "      <th>0</th>\n",
       "      <td>Tatiana</td>\n",
       "    </tr>\n",
       "    <tr>\n",
       "      <th>1</th>\n",
       "      <td>Jonathan</td>\n",
       "    </tr>\n",
       "    <tr>\n",
       "      <th>2</th>\n",
       "      <td>Tommy</td>\n",
       "    </tr>\n",
       "    <tr>\n",
       "      <th>3</th>\n",
       "      <td>Alex</td>\n",
       "    </tr>\n",
       "  </tbody>\n",
       "</table>\n",
       "</div>"
      ],
      "text/plain": [
       "       name\n",
       "0   Tatiana\n",
       "1  Jonathan\n",
       "2     Tommy\n",
       "3      Alex"
      ]
     },
     "execution_count": 14,
     "metadata": {},
     "output_type": "execute_result"
    }
   ],
   "source": [
    "df[df[\"weight\"]>100][\"name\"].reset_index().drop(columns=[\"index\"])"
   ]
  }
 ],
 "metadata": {
  "kernelspec": {
   "display_name": "Python 3",
   "language": "python",
   "name": "python3"
  },
  "language_info": {
   "codemirror_mode": {
    "name": "ipython",
    "version": 3
   },
   "file_extension": ".py",
   "mimetype": "text/x-python",
   "name": "python",
   "nbconvert_exporter": "python",
   "pygments_lexer": "ipython3",
   "version": "3.10.13"
  }
 },
 "nbformat": 4,
 "nbformat_minor": 2
}
