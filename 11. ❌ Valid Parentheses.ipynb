{
 "cells": [
  {
   "cell_type": "markdown",
   "metadata": {},
   "source": [
    "https://leetcode.com/problems/valid-parentheses/description/"
   ]
  },
  {
   "cell_type": "code",
   "execution_count": 31,
   "metadata": {},
   "outputs": [],
   "source": [
    "s = \"()\""
   ]
  },
  {
   "cell_type": "code",
   "execution_count": 32,
   "metadata": {},
   "outputs": [],
   "source": [
    "a=[\"(\",\")\"]\n",
    "b=[\"{\",\"}\"]\n",
    "c=[\"[\",\"]\"]\n",
    "\n",
    "open_brac = [\"(\",\"{\",\"[\"]\n",
    "close_brac = [\")\",\"}\",\"]\"]"
   ]
  },
  {
   "cell_type": "code",
   "execution_count": 38,
   "metadata": {},
   "outputs": [
    {
     "name": "stdout",
     "output_type": "stream",
     "text": [
      "i: 0\n",
      "False\n"
     ]
    }
   ],
   "source": [
    "s = \"{[]}\"\n",
    "flag=0\n",
    "for i in range(0,len(s)):\n",
    "    if i%2==0:\n",
    "        print(\"i:\",i)\n",
    "        if (s[i] == open_brac[0] and s[i+1] == close_brac[0]) or (s[i] == open_brac[1] and s[i+1] == close_brac[1]) or (s[i] == open_brac[2] and s[i+1] == close_brac[2]):\n",
    "            flag=1\n",
    "        else:\n",
    "            flag=0\n",
    "            break\n",
    "print(flag > 0)"
   ]
  },
  {
   "cell_type": "markdown",
   "metadata": {},
   "source": [
    "use stack and pop"
   ]
  },
  {
   "cell_type": "code",
   "execution_count": 51,
   "metadata": {},
   "outputs": [
    {
     "name": "stdout",
     "output_type": "stream",
     "text": [
      "i: )\n",
      "stack: ['{', '[', '(']\n",
      "i: ]\n",
      "stack: ['{', '[']\n",
      "i: }\n",
      "stack: ['{']\n",
      "i: )\n",
      "stack: []\n",
      "false\n",
      "[]\n"
     ]
    }
   ],
   "source": [
    "s = \"{[()]})\"\n",
    "stack=[]\n",
    "for i in s:\n",
    "    if i in '({[':\n",
    "        stack.append(i)\n",
    "    else:\n",
    "        print(\"i:\",i)\n",
    "        print(\"stack:\",stack)\n",
    "        if not stack or \\\n",
    "        (i == ')' and stack[-1] != '(') or \\\n",
    "        (i == '}' and stack[-1] != '{') or \\\n",
    "        (i == ']' and stack[-1] != '['):\n",
    "            print(\"false\")\n",
    "            break\n",
    "        stack.pop()\n",
    "print(stack)"
   ]
  },
  {
   "cell_type": "markdown",
   "metadata": {},
   "source": [
    "Given a string s containing just the characters '(', ')', '{', '}', '[' and ']', determine if the input string is valid.\n",
    "\n",
    "An input string is valid if:\n",
    "\n",
    "Open brackets must be closed by the same type of brackets.\n",
    "Open brackets must be closed in the correct order.\n",
    "Every close bracket has a corresponding open bracket of the same type.\n",
    " \n",
    "\n",
    "Example 1:\n",
    "\n",
    "Input: s = \"()\"\n",
    "Output: true\n",
    "Example 2:\n",
    "\n",
    "Input: s = \"()[]{}\"\n",
    "Output: true\n",
    "Example 3:\n",
    "\n",
    "Input: s = \"(]\"\n",
    "Output: false\n",
    " \n",
    "\n",
    "Constraints:\n",
    "\n",
    "1 <= s.length <= 104\n",
    "s consists of parentheses only '()[]{}'."
   ]
  },
  {
   "cell_type": "code",
   "execution_count": null,
   "metadata": {},
   "outputs": [],
   "source": [
    "# The code append the opening bracket\n",
    "# and pops the closing bracket\n",
    "# while matching the stack of opening bracket."
   ]
  },
  {
   "cell_type": "code",
   "execution_count": null,
   "metadata": {},
   "outputs": [],
   "source": [
    "class Solution:\n",
    "    def isValid(self, s: str) -> bool:\n",
    "            stack=[]\n",
    "            for i in s:\n",
    "                if i in '({[':\n",
    "                    stack.append(i)\n",
    "                else:\n",
    "                    print(\"i:\",i)\n",
    "                    print(\"stack:\",stack)\n",
    "\n",
    "                    #important if condition\n",
    "                    if not stack or \\\n",
    "                    (i == ')' and stack[-1] != '(') or \\\n",
    "                    (i == '}' and stack[-1] != '{') or \\\n",
    "                    (i == ']' and stack[-1] != '['):\n",
    "                        return False\n",
    "                    stack.pop()\n",
    "            return not stack\n",
    "        "
   ]
  }
 ],
 "metadata": {
  "kernelspec": {
   "display_name": "Python 3",
   "language": "python",
   "name": "python3"
  },
  "language_info": {
   "codemirror_mode": {
    "name": "ipython",
    "version": 3
   },
   "file_extension": ".py",
   "mimetype": "text/x-python",
   "name": "python",
   "nbconvert_exporter": "python",
   "pygments_lexer": "ipython3",
   "version": "3.10.13"
  }
 },
 "nbformat": 4,
 "nbformat_minor": 2
}
