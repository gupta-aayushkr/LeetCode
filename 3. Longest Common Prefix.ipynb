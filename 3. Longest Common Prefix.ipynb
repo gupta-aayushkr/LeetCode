{
 "cells": [
  {
   "cell_type": "code",
   "execution_count": 17,
   "metadata": {},
   "outputs": [],
   "source": [
    "strs = [\"flower\",\"flow\",\"flight\"]"
   ]
  },
  {
   "cell_type": "code",
   "execution_count": 5,
   "metadata": {},
   "outputs": [
    {
     "name": "stdout",
     "output_type": "stream",
     "text": [
      "flower\n",
      "flow\n",
      "flight\n"
     ]
    }
   ],
   "source": [
    "for i in range(0,len(strs)):\n",
    "    print(strs[i])"
   ]
  },
  {
   "cell_type": "code",
   "execution_count": 19,
   "metadata": {},
   "outputs": [
    {
     "data": {
      "text/plain": [
       "['flow', 'flower', 'flight']"
      ]
     },
     "execution_count": 19,
     "metadata": {},
     "output_type": "execute_result"
    }
   ],
   "source": [
    "sorted_list = sorted(strs, key=len)\n",
    "sorted_list"
   ]
  },
  {
   "cell_type": "code",
   "execution_count": 24,
   "metadata": {},
   "outputs": [
    {
     "name": "stdout",
     "output_type": "stream",
     "text": [
      "['flight', 'flow', 'flower']\n",
      "fl\n",
      "['car', 'dogcar', 'racecar']\n",
      "\n"
     ]
    }
   ],
   "source": [
    "def longest_common_prefix(strs):\n",
    "    if not strs:\n",
    "        return \"\"\n",
    "\n",
    "    # Sort the strings to ensure that the common prefix is at the beginning of the first and last string\n",
    "    strs.sort()\n",
    "    print(strs)\n",
    "\n",
    "    # Take the first and last strings after sorting\n",
    "    first_str = strs[0]\n",
    "    last_str = strs[-1]\n",
    "\n",
    "    # Compare the characters of the first and last strings to find the common prefix\n",
    "    common_prefix = []\n",
    "    for i in range(len(first_str)):\n",
    "        if i < len(last_str) and first_str[i] == last_str[i]:\n",
    "            common_prefix.append(first_str[i])\n",
    "        else:\n",
    "            break\n",
    "\n",
    "    return ''.join(common_prefix)\n",
    "\n",
    "# Example usage:\n",
    "strs1 = [\"flower\", \"flow\", \"flight\"]\n",
    "print(longest_common_prefix(strs1))  # Output: \"fl\"\n",
    "\n",
    "strs2 = [\"dogcar\", \"racecar\", \"car\"]\n",
    "print(longest_common_prefix(strs2))  # Output: \"\"\n"
   ]
  },
  {
   "cell_type": "markdown",
   "metadata": {},
   "source": [
    "# Accepted"
   ]
  },
  {
   "cell_type": "code",
   "execution_count": 25,
   "metadata": {},
   "outputs": [],
   "source": [
    "def longestCommonPrefix(strs) -> str:\n",
    "        list1 = strs\n",
    "        if not list1:\n",
    "            return \"\"\n",
    "\n",
    "        list1.sort()\n",
    "        \n",
    "        first = list1[0]\n",
    "        last = list1[-1]\n",
    "\n",
    "        common = \"\"\n",
    "        \n",
    "        for i in range(len(first)):\n",
    "            if i < len(last) and first[i] == last[i]:\n",
    "                common = common + first[i]\n",
    "            else:\n",
    "                break\n",
    "        \n",
    "        return common"
   ]
  },
  {
   "cell_type": "code",
   "execution_count": 30,
   "metadata": {},
   "outputs": [
    {
     "name": "stdout",
     "output_type": "stream",
     "text": [
      "\n"
     ]
    }
   ],
   "source": [
    "strs2 = [\"dogcar\", \"racecar\", \"car\"]\n",
    "print(longestCommonPrefix(strs2))  # Output: \"fl\""
   ]
  },
  {
   "cell_type": "code",
   "execution_count": null,
   "metadata": {},
   "outputs": [],
   "source": []
  }
 ],
 "metadata": {
  "kernelspec": {
   "display_name": "Python 3",
   "language": "python",
   "name": "python3"
  },
  "language_info": {
   "codemirror_mode": {
    "name": "ipython",
    "version": 3
   },
   "file_extension": ".py",
   "mimetype": "text/x-python",
   "name": "python",
   "nbconvert_exporter": "python",
   "pygments_lexer": "ipython3",
   "version": "3.10.13"
  }
 },
 "nbformat": 4,
 "nbformat_minor": 2
}
