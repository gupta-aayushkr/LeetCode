{
 "cells": [
  {
   "cell_type": "code",
   "execution_count": 1,
   "metadata": {},
   "outputs": [],
   "source": [
    "l1 = [2,4,3] \n",
    "l2 = [5,6,4]"
   ]
  },
  {
   "cell_type": "code",
   "execution_count": 13,
   "metadata": {},
   "outputs": [],
   "source": [
    "l1 = [9,9,9,9,9,9,9] \n",
    "l2 = [9,9,9,9]"
   ]
  },
  {
   "cell_type": "code",
   "execution_count": 14,
   "metadata": {},
   "outputs": [
    {
     "name": "stdout",
     "output_type": "stream",
     "text": [
      "9999999\n"
     ]
    }
   ],
   "source": [
    "n1 = 0\n",
    "for i in range(len(l1)):\n",
    "    n1 = n1 + l1[len(l1)-i-1]*10**(len(l1)-i-1)\n",
    "print(n1)"
   ]
  },
  {
   "cell_type": "code",
   "execution_count": 15,
   "metadata": {},
   "outputs": [
    {
     "name": "stdout",
     "output_type": "stream",
     "text": [
      "9999\n"
     ]
    }
   ],
   "source": [
    "n2 = 0\n",
    "for i in range(len(l2)):\n",
    "    n2 = n2 + l2[len(l2)-i-1]*10**(len(l2)-i-1)\n",
    "print(n2)"
   ]
  },
  {
   "cell_type": "code",
   "execution_count": 52,
   "metadata": {},
   "outputs": [],
   "source": [
    "result = n1 + n2"
   ]
  },
  {
   "cell_type": "code",
   "execution_count": 57,
   "metadata": {},
   "outputs": [
    {
     "name": "stdout",
     "output_type": "stream",
     "text": [
      "['1', '0', '0', '0', '9', '9', '9', '8']\n"
     ]
    }
   ],
   "source": [
    "reversed(result)\n",
    "print(result)"
   ]
  },
  {
   "cell_type": "code",
   "execution_count": 53,
   "metadata": {},
   "outputs": [
    {
     "data": {
      "text/plain": [
       "['1', '0', '0', '0', '9', '9', '9', '8']"
      ]
     },
     "execution_count": 53,
     "metadata": {},
     "output_type": "execute_result"
    }
   ],
   "source": [
    "result = list(str(result))\n",
    "result"
   ]
  },
  {
   "cell_type": "code",
   "execution_count": 54,
   "metadata": {},
   "outputs": [],
   "source": [
    "rev = []\n",
    "for i in result[::-1]:\n",
    "    rev.append(int(i))"
   ]
  },
  {
   "cell_type": "code",
   "execution_count": 55,
   "metadata": {},
   "outputs": [
    {
     "data": {
      "text/plain": [
       "[8, 9, 9, 9, 0, 0, 0, 1]"
      ]
     },
     "execution_count": 55,
     "metadata": {},
     "output_type": "execute_result"
    }
   ],
   "source": [
    "rev"
   ]
  },
  {
   "cell_type": "markdown",
   "metadata": {},
   "source": [
    "# Catch --> there is a linked list concept involved"
   ]
  },
  {
   "cell_type": "markdown",
   "metadata": {},
   "source": [
    "## Proposed soln --> convert linked list to list and then result list again to linked list"
   ]
  },
  {
   "cell_type": "markdown",
   "metadata": {},
   "source": [
    "# submitted"
   ]
  },
  {
   "cell_type": "code",
   "execution_count": 60,
   "metadata": {},
   "outputs": [],
   "source": [
    "class Solution:\n",
    "    def addTwoNumbers():\n",
    "        list1 = []\n",
    "        while l1:\n",
    "            list1.append(l1.val)\n",
    "            l1 = l1.next\n",
    "        \n",
    "        list2 = []\n",
    "        while l2:\n",
    "            list2.append(l2.val)\n",
    "            l2 = l2.next\n",
    "\n",
    "        n1 = 0\n",
    "        for i in range(len(list1)):\n",
    "            n1 = n1 + list1[len(list1)-i-1]*10**(len(list1)-i-1)\n",
    "\n",
    "        n2 = 0\n",
    "        for i in range(len(list2)):\n",
    "            n2 = n2 + list2[len(list2)-i-1]*10**(len(list2)-i-1)\n",
    "        \n",
    "        result = n1 + n2\n",
    "        \n",
    "        result = list(str(result))\n",
    "\n",
    "        rev = []\n",
    "        for i in result[::-1]:\n",
    "            rev.append(int(i))\n",
    "\n",
    "        linked_list = ListNode(0)\n",
    "        tail = linked_list\n",
    "\n",
    "        for i in rev:\n",
    "            tail.next = ListNode(i)\n",
    "            tail = tail.next\n",
    "\n",
    "        return linked_list.next"
   ]
  },
  {
   "cell_type": "code",
   "execution_count": null,
   "metadata": {},
   "outputs": [],
   "source": []
  }
 ],
 "metadata": {
  "kernelspec": {
   "display_name": "Python 3",
   "language": "python",
   "name": "python3"
  },
  "language_info": {
   "codemirror_mode": {
    "name": "ipython",
    "version": 3
   },
   "file_extension": ".py",
   "mimetype": "text/x-python",
   "name": "python",
   "nbconvert_exporter": "python",
   "pygments_lexer": "ipython3",
   "version": "3.10.13"
  }
 },
 "nbformat": 4,
 "nbformat_minor": 2
}
