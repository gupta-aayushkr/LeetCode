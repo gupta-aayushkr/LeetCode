{
 "cells": [
  {
   "cell_type": "code",
   "execution_count": 19,
   "metadata": {},
   "outputs": [],
   "source": [
    "nums = [-1,0,1,2,-1,-4]"
   ]
  },
  {
   "cell_type": "code",
   "execution_count": 20,
   "metadata": {},
   "outputs": [
    {
     "name": "stdout",
     "output_type": "stream",
     "text": [
      "[[-1, 0, 1], [-1, 2, -1], [0, 1, -1]]\n"
     ]
    }
   ],
   "source": [
    "list1 = []\n",
    "for i in range(0, len(nums)):\n",
    "    for j in range(i+1, len(nums)):\n",
    "        for k in range(j+1, len(nums)):\n",
    "            if i != j and i != k and j != k and (nums[i] + nums[j] + nums[k] == 0):\n",
    "                list1.append([nums[i], nums[j], nums[k]])"
   ]
  },
  {
   "cell_type": "code",
   "execution_count": 46,
   "metadata": {},
   "outputs": [
    {
     "name": "stdout",
     "output_type": "stream",
     "text": [
      "i here 0\n",
      "inside j 1\n",
      "inside j 2\n",
      "pass\n",
      "i here 1\n",
      "inside j 2\n",
      "i here 2\n"
     ]
    }
   ],
   "source": [
    "new_list1 = []\n",
    "for i in range(0, len(list1)):\n",
    "    print(\"i here\",i)\n",
    "    a = list1[i][0]\n",
    "    b = list1[i][1]\n",
    "    c = list1[i][2]\n",
    "    for j in range(i+1, len(list1)):\n",
    "        print(\"inside j\", j)\n",
    "        if a in list1[j] and b in list1[j] and c in list1[j]:\n",
    "            print(\"pass\")\n",
    "        else:\n",
    "            new_list1.append([list1[i][0],list1[i][1],list1[i][2]])"
   ]
  },
  {
   "cell_type": "code",
   "execution_count": 54,
   "metadata": {},
   "outputs": [],
   "source": [
    "nums = [0,0,0]"
   ]
  },
  {
   "cell_type": "code",
   "execution_count": 52,
   "metadata": {},
   "outputs": [],
   "source": [
    "if len(nums) == 3:\n",
    "    return nums\n",
    "else: \n",
    "    list1 = []\n",
    "    for i in range(0, len(nums)):\n",
    "        for j in range(i+1, len(nums)):\n",
    "            for k in range(j+1, len(nums)):\n",
    "                if i != j and i != k and j != k and (nums[i] + nums[j] + nums[k] == 0):\n",
    "                    list1.append([nums[i], nums[j], nums[k]])\n",
    "    new_list1 = []\n",
    "    for i in range(0, len(list1)):\n",
    "        a = list1[i][0]\n",
    "        b = list1[i][1]\n",
    "        c = list1[i][2]\n",
    "        for j in range(i+1, len(list1)):\n",
    "            if a in list1[j] and b in list1[j] and c in list1[j]:\n",
    "                pass\n",
    "            else:\n",
    "                new_list1.append([list1[i][0],list1[i][1],list1[i][2]])"
   ]
  },
  {
   "cell_type": "code",
   "execution_count": 53,
   "metadata": {},
   "outputs": [
    {
     "data": {
      "text/plain": [
       "[]"
      ]
     },
     "execution_count": 53,
     "metadata": {},
     "output_type": "execute_result"
    }
   ],
   "source": [
    "new_list1"
   ]
  },
  {
   "cell_type": "code",
   "execution_count": null,
   "metadata": {},
   "outputs": [],
   "source": []
  }
 ],
 "metadata": {
  "kernelspec": {
   "display_name": "Python 3",
   "language": "python",
   "name": "python3"
  },
  "language_info": {
   "codemirror_mode": {
    "name": "ipython",
    "version": 3
   },
   "file_extension": ".py",
   "mimetype": "text/x-python",
   "name": "python",
   "nbconvert_exporter": "python",
   "pygments_lexer": "ipython3",
   "version": "3.10.13"
  }
 },
 "nbformat": 4,
 "nbformat_minor": 2
}
