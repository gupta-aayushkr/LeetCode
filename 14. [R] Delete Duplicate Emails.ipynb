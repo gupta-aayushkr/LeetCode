{
 "cells": [
  {
   "cell_type": "markdown",
   "metadata": {},
   "source": [
    "https://leetcode.com/problems/delete-duplicate-emails/"
   ]
  },
  {
   "cell_type": "markdown",
   "metadata": {},
   "source": [
    "1. The solution is to use row number window function and then get id, email from that, \n",
    "\n",
    "2. Use query to filter out row number 1 and get the ids\n",
    "\n",
    "3. use query to then delete the remaming."
   ]
  },
  {
   "cell_type": "code",
   "execution_count": null,
   "metadata": {
    "vscode": {
     "languageId": "plaintext"
    }
   },
   "outputs": [],
   "source": [
    "DELETE FROM Person\n",
    "WHERE id IN (\n",
    "    SELECT id\n",
    "    FROM (\n",
    "        SELECT \n",
    "            id, \n",
    "            email,\n",
    "            ROW_NUMBER() OVER (PARTITION BY email ORDER BY id ASC) AS row_num\n",
    "        FROM Person\n",
    "    ) AS ranked\n",
    "    WHERE row_num != 1\n",
    ");"
   ]
  }
 ],
 "metadata": {
  "language_info": {
   "name": "python"
  }
 },
 "nbformat": 4,
 "nbformat_minor": 2
}
