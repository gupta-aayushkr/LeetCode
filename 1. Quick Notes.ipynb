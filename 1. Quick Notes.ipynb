{
 "cells": [
  {
   "cell_type": "markdown",
   "metadata": {},
   "source": [
    "## Finding Triangle within SQL--"
   ]
  },
  {
   "cell_type": "markdown",
   "metadata": {},
   "source": [
    "SELECT \n",
    "    CASE\n",
    "        WHEN a + b > c AND a + c > b AND b + c > a THEN 'Yes' -- If the sum of any two sides is greater than the third side, it forms a triangle\n",
    "        ELSE 'No'\n",
    "    END AS is_triangle\n",
    "FROM \n",
    "    triangle;"
   ]
  },
  {
   "cell_type": "markdown",
   "metadata": {},
   "source": [
    "# Multiple Case Statements demo query -- "
   ]
  },
  {
   "cell_type": "markdown",
   "metadata": {},
   "source": [
    "select \n",
    "case when num_check != 0 then num_check else NULL end as num\n",
    "from \n",
    "(\n",
    "select num,\n",
    "case when count(*) > 1 then 0 else num end as num_check\n",
    "from MyNumbers\n",
    "group by num\n",
    "order by num_check desc\n",
    "limit 1\n",
    ") as a"
   ]
  },
  {
   "cell_type": "markdown",
   "metadata": {},
   "source": []
  },
  {
   "cell_type": "markdown",
   "metadata": {},
   "source": []
  },
  {
   "cell_type": "markdown",
   "metadata": {},
   "source": []
  },
  {
   "cell_type": "markdown",
   "metadata": {},
   "source": []
  }
 ],
 "metadata": {
  "language_info": {
   "name": "python"
  }
 },
 "nbformat": 4,
 "nbformat_minor": 2
}
