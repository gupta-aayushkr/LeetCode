{
 "cells": [
  {
   "cell_type": "markdown",
   "metadata": {},
   "source": [
    "https://leetcode.com/problems/triangle-judgement"
   ]
  },
  {
   "cell_type": "markdown",
   "metadata": {},
   "source": [
    "Table: Triangle\n",
    "\n",
    "+-------------+------+\n",
    "| Column Name | Type |\n",
    "+-------------+------+\n",
    "| x           | int  |\n",
    "| y           | int  |\n",
    "| z           | int  |\n",
    "+-------------+------+\n",
    "In SQL, (x, y, z) is the primary key column for this table.\n",
    "Each row of this table contains the lengths of three line segments.\n",
    " \n",
    "\n",
    "Report for every three line segments whether they can form a triangle.\n",
    "\n",
    "Return the result table in any order.\n",
    "\n",
    "The result format is in the following example.\n",
    "\n",
    " \n",
    "\n",
    "Example 1:\n",
    "\n",
    "Input: \n",
    "Triangle table:\n",
    "+----+----+----+\n",
    "| x  | y  | z  |\n",
    "+----+----+----+\n",
    "| 13 | 15 | 30 |\n",
    "| 10 | 20 | 15 |\n",
    "+----+----+----+\n",
    "Output: \n",
    "+----+----+----+----------+\n",
    "| x  | y  | z  | triangle |\n",
    "+----+----+----+----------+\n",
    "| 13 | 15 | 30 | No       |\n",
    "| 10 | 20 | 15 | Yes      |\n",
    "+----+----+----+----------+"
   ]
  },
  {
   "cell_type": "markdown",
   "metadata": {},
   "source": [
    "# Write your MySQL query statement below\n",
    "select x,y,z,\n",
    "case \n",
    "when x + y > z and y + z > x and z + x > y then 'Yes' \n",
    "else 'No' \n",
    "end as triangle\n",
    "from Triangle"
   ]
  },
  {
   "cell_type": "markdown",
   "metadata": {},
   "source": []
  },
  {
   "cell_type": "markdown",
   "metadata": {},
   "source": []
  }
 ],
 "metadata": {
  "language_info": {
   "name": "python"
  }
 },
 "nbformat": 4,
 "nbformat_minor": 2
}
